{
 "cells": [
  {
   "cell_type": "code",
   "execution_count": null,
   "metadata": {},
   "outputs": [],
   "source": [
    "rankings_list = [8,7,6,8,5]\n",
    "food_list = ['turkey bacon','eggs','waffles', 'fried chicken', 'pasta']           # Creating List, Dict, Int, and Str\n",
    "weight_project = {'name': 'Inza', 'weight': 250, 'training': 1 , 'diet':'fair'}"
   ]
  },
  {
   "cell_type": "code",
   "execution_count": null,
   "metadata": {},
   "outputs": [],
   "source": [
    "for rank in rankings_list:      #Using 'for' and 'in' to gather values\n",
    "    print('Sky')"
   ]
  },
  {
   "cell_type": "code",
   "execution_count": null,
   "metadata": {},
   "outputs": [],
   "source": [
    "if 'turkey bacon' and 'eggs' in food_list:\n",
    "    print('Yes!')\n",
    "else:                                       # Using all 3 keys words as a Search engine for Python 3 venv-venv\n",
    "    print('none')"
   ]
  },
  {
   "cell_type": "code",
   "execution_count": null,
   "metadata": {},
   "outputs": [],
   "source": [
    "for key, values in weight_project.items():\n",
    "    print(key ,'--->' ,values)               # Using 'For' and 'in' to pull out 'keys' & 'values' "
   ]
  },
  {
   "cell_type": "code",
   "execution_count": null,
   "metadata": {},
   "outputs": [],
   "source": [
    "for one in food_list:\n",
    "    for two in rankings_list:\n",
    "        print( one, 'Ranked',two)             # Using 'for' 'loops' on two list"
   ]
  },
  {
   "cell_type": "code",
   "execution_count": null,
   "metadata": {},
   "outputs": [],
   "source": [
    "def number_sq(number,power):\n",
    "    print(number**power)              # Using functions def() to define a function within the variables () "
   ]
  },
  {
   "cell_type": "code",
   "execution_count": null,
   "metadata": {},
   "outputs": [],
   "source": [
    "number_sq(3,5)"
   ]
  },
  {
   "cell_type": "code",
   "execution_count": null,
   "metadata": {},
   "outputs": [],
   "source": []
  }
 ],
 "metadata": {
  "kernelspec": {
   "display_name": "Python 3",
   "language": "python",
   "name": "python3"
  },
  "language_info": {
   "codemirror_mode": {
    "name": "ipython",
    "version": 3
   },
   "file_extension": ".py",
   "mimetype": "text/x-python",
   "name": "python",
   "nbconvert_exporter": "python",
   "pygments_lexer": "ipython3",
   "version": "3.12.0"
  }
 },
 "nbformat": 4,
 "nbformat_minor": 2
}
